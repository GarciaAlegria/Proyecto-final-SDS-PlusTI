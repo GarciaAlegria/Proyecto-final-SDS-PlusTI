{
 "cells": [
  {
   "cell_type": "markdown",
   "metadata": {},
   "source": [
    "# Proyecto Final Con PlusTi Priorizar fraudes repetidos en un mismo comercio\n",
    "### Enfocar detección en comercios donde ha habido múltiples fraudes previos.\n",
    "### Security Data Science\n",
    "### Universidad del valle de Guatemala\n",
    "\n",
    "Abner Ivan Garcia - 21285"
   ]
  }
 ],
 "metadata": {
  "language_info": {
   "name": "python"
  }
 },
 "nbformat": 4,
 "nbformat_minor": 2
}
