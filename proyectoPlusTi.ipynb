{
 "cells": [
  {
   "cell_type": "markdown",
   "metadata": {},
   "source": [
    "# Proyecto Final Con PlusTi Priorizar fraudes repetidos en un mismo comercio\n",
    "### Enfocar detección en comercios donde ha habido múltiples fraudes previos.\n",
    "### Security Data Science\n",
    "### Universidad del valle de Guatemala\n",
    "\n",
    "Abner Ivan Garcia - 21285"
   ]
  },
  {
   "cell_type": "code",
   "execution_count": 54,
   "metadata": {},
   "outputs": [],
   "source": [
    "# Importamos librerias\n",
    "import pandas as pd\n",
    "import numpy as np\n",
    "import matplotlib.pyplot as plt\n",
    "import seaborn as sns\n",
    "from sklearn.model_selection import train_test_split"
   ]
  },
  {
   "cell_type": "markdown",
   "metadata": {},
   "source": [
    "#### Cargamos el dataset"
   ]
  },
  {
   "cell_type": "code",
   "execution_count": 28,
   "metadata": {},
   "outputs": [
    {
     "data": {
      "application/vnd.microsoft.datawrangler.viewer.v0+json": {
       "columns": [
        {
         "name": "index",
         "rawType": "int64",
         "type": "integer"
        },
        {
         "name": "cc_num",
         "rawType": "int64",
         "type": "integer"
        },
        {
         "name": "merchant",
         "rawType": "object",
         "type": "string"
        },
        {
         "name": "category",
         "rawType": "object",
         "type": "string"
        },
        {
         "name": "amt",
         "rawType": "float64",
         "type": "float"
        },
        {
         "name": "first",
         "rawType": "object",
         "type": "string"
        },
        {
         "name": "last",
         "rawType": "object",
         "type": "string"
        },
        {
         "name": "gender",
         "rawType": "object",
         "type": "string"
        },
        {
         "name": "street",
         "rawType": "object",
         "type": "string"
        },
        {
         "name": "city",
         "rawType": "object",
         "type": "string"
        },
        {
         "name": "state",
         "rawType": "object",
         "type": "string"
        },
        {
         "name": "zip",
         "rawType": "int64",
         "type": "integer"
        },
        {
         "name": "lat",
         "rawType": "float64",
         "type": "float"
        },
        {
         "name": "long",
         "rawType": "float64",
         "type": "float"
        },
        {
         "name": "city_pop",
         "rawType": "int64",
         "type": "integer"
        },
        {
         "name": "job",
         "rawType": "object",
         "type": "string"
        },
        {
         "name": "dob",
         "rawType": "object",
         "type": "string"
        },
        {
         "name": "trans_num",
         "rawType": "object",
         "type": "string"
        },
        {
         "name": "unix_time",
         "rawType": "int64",
         "type": "integer"
        },
        {
         "name": "merch_lat",
         "rawType": "float64",
         "type": "float"
        },
        {
         "name": "merch_long",
         "rawType": "float64",
         "type": "float"
        },
        {
         "name": "is_fraud",
         "rawType": "int64",
         "type": "integer"
        },
        {
         "name": "amt_month",
         "rawType": "float64",
         "type": "float"
        },
        {
         "name": "amt_year",
         "rawType": "float64",
         "type": "float"
        },
        {
         "name": "amt_month_shopping_net_spend",
         "rawType": "float64",
         "type": "float"
        },
        {
         "name": "count_month_shopping_net",
         "rawType": "float64",
         "type": "float"
        },
        {
         "name": "first_time_at_merchant",
         "rawType": "bool",
         "type": "boolean"
        },
        {
         "name": "dist_between_client_and_merch",
         "rawType": "float64",
         "type": "float"
        },
        {
         "name": "trans_month",
         "rawType": "int64",
         "type": "integer"
        },
        {
         "name": "trans_day",
         "rawType": "int64",
         "type": "integer"
        },
        {
         "name": "hour",
         "rawType": "int64",
         "type": "integer"
        },
        {
         "name": "year",
         "rawType": "int64",
         "type": "integer"
        },
        {
         "name": "times_shopped_at_merchant",
         "rawType": "int64",
         "type": "integer"
        },
        {
         "name": "times_shopped_at_merchant_year",
         "rawType": "int64",
         "type": "integer"
        },
        {
         "name": "times_shopped_at_merchant_month",
         "rawType": "int64",
         "type": "integer"
        },
        {
         "name": "times_shopped_at_merchant_day",
         "rawType": "int64",
         "type": "integer"
        }
       ],
       "conversionMethod": "pd.DataFrame",
       "ref": "f0eb4a49-0d37-4d7c-a6b1-e1d492afb0e6",
       "rows": [
        [
         "0",
         "2703186189652095",
         "fraud_Rippin, Kub and Mann",
         "misc_net",
         "4.97",
         "Jennifer",
         "Banks",
         "F",
         "561 Perry Cove",
         "Moravian Falls",
         "NC",
         "28654",
         "36.0788",
         "-81.1781",
         "3495",
         "Psychologist, counselling",
         "1988-03-09",
         "0b242abb623afc578575680df30655b9",
         "1325376018",
         "36.011293",
         "-82.048315",
         "0",
         "4.97",
         "4.97",
         "0.0",
         "0.0",
         "True",
         "78.77382075373654",
         "1",
         "1",
         "0",
         "2019",
         "5",
         "4",
         "2",
         "1"
        ],
        [
         "1",
         "630423337322",
         "fraud_Heller, Gutmann and Zieme",
         "grocery_pos",
         "107.23",
         "Stephanie",
         "Gill",
         "F",
         "43039 Riley Greens Suite 393",
         "Orient",
         "WA",
         "99160",
         "48.8878",
         "-118.2105",
         "149",
         "Special educational needs teacher",
         "1978-06-21",
         "1f76529f8574734946361c461b024d99",
         "1325376044",
         "49.159047",
         "-118.186462",
         "0",
         "107.23",
         "107.23",
         "0.0",
         "0.0",
         "True",
         "30.216618410409005",
         "1",
         "1",
         "0",
         "2019",
         "4",
         "4",
         "1",
         "1"
        ],
        [
         "2",
         "38859492057661",
         "fraud_Lind-Buckridge",
         "entertainment",
         "220.11",
         "Edward",
         "Sanchez",
         "M",
         "594 White Dale Suite 530",
         "Malad City",
         "ID",
         "83252",
         "42.1808",
         "-112.262",
         "4154",
         "Nature conservation officer",
         "1962-01-19",
         "a1a22d70485983eac12b5b88dad1cf95",
         "1325376051",
         "43.150704",
         "-112.154481",
         "0",
         "220.11",
         "220.11",
         "0.0",
         "0.0",
         "True",
         "108.10291171205012",
         "1",
         "1",
         "0",
         "2019",
         "4",
         "3",
         "1",
         "1"
        ],
        [
         "3",
         "3534093764340240",
         "fraud_Kutch, Hermiston and Farrell",
         "gas_transport",
         "45.0",
         "Jeremy",
         "White",
         "M",
         "9443 Cynthia Court Apt. 038",
         "Boulder",
         "MT",
         "59632",
         "46.2306",
         "-112.1138",
         "1939",
         "Patent attorney",
         "1967-01-12",
         "6b849c168bdad6f867558c3793159a81",
         "1325376076",
         "47.034331",
         "-112.561071",
         "0",
         "45.0",
         "45.0",
         "0.0",
         "0.0",
         "True",
         "95.68511547580852",
         "1",
         "1",
         "0",
         "2019",
         "1",
         "1",
         "1",
         "1"
        ],
        [
         "4",
         "375534208663984",
         "fraud_Keeling-Crist",
         "misc_pos",
         "41.96",
         "Tyler",
         "Garcia",
         "M",
         "408 Bradley Rest",
         "Doe Hill",
         "VA",
         "24433",
         "38.4207",
         "-79.4629",
         "99",
         "Dance movement psychotherapist",
         "1986-03-28",
         "a41d7549acf90789359a9aa5346dcb46",
         "1325376186",
         "38.674999",
         "-78.632459",
         "0",
         "41.96",
         "41.96",
         "0.0",
         "0.0",
         "True",
         "77.70239516452571",
         "1",
         "1",
         "0",
         "2019",
         "6",
         "1",
         "1",
         "1"
        ]
       ],
       "shape": {
        "columns": 35,
        "rows": 5
       }
      },
      "text/html": [
       "<div>\n",
       "<style scoped>\n",
       "    .dataframe tbody tr th:only-of-type {\n",
       "        vertical-align: middle;\n",
       "    }\n",
       "\n",
       "    .dataframe tbody tr th {\n",
       "        vertical-align: top;\n",
       "    }\n",
       "\n",
       "    .dataframe thead th {\n",
       "        text-align: right;\n",
       "    }\n",
       "</style>\n",
       "<table border=\"1\" class=\"dataframe\">\n",
       "  <thead>\n",
       "    <tr style=\"text-align: right;\">\n",
       "      <th></th>\n",
       "      <th>cc_num</th>\n",
       "      <th>merchant</th>\n",
       "      <th>category</th>\n",
       "      <th>amt</th>\n",
       "      <th>first</th>\n",
       "      <th>last</th>\n",
       "      <th>gender</th>\n",
       "      <th>street</th>\n",
       "      <th>city</th>\n",
       "      <th>state</th>\n",
       "      <th>...</th>\n",
       "      <th>first_time_at_merchant</th>\n",
       "      <th>dist_between_client_and_merch</th>\n",
       "      <th>trans_month</th>\n",
       "      <th>trans_day</th>\n",
       "      <th>hour</th>\n",
       "      <th>year</th>\n",
       "      <th>times_shopped_at_merchant</th>\n",
       "      <th>times_shopped_at_merchant_year</th>\n",
       "      <th>times_shopped_at_merchant_month</th>\n",
       "      <th>times_shopped_at_merchant_day</th>\n",
       "    </tr>\n",
       "  </thead>\n",
       "  <tbody>\n",
       "    <tr>\n",
       "      <th>0</th>\n",
       "      <td>2703186189652095</td>\n",
       "      <td>fraud_Rippin, Kub and Mann</td>\n",
       "      <td>misc_net</td>\n",
       "      <td>4.97</td>\n",
       "      <td>Jennifer</td>\n",
       "      <td>Banks</td>\n",
       "      <td>F</td>\n",
       "      <td>561 Perry Cove</td>\n",
       "      <td>Moravian Falls</td>\n",
       "      <td>NC</td>\n",
       "      <td>...</td>\n",
       "      <td>True</td>\n",
       "      <td>78.773821</td>\n",
       "      <td>1</td>\n",
       "      <td>1</td>\n",
       "      <td>0</td>\n",
       "      <td>2019</td>\n",
       "      <td>5</td>\n",
       "      <td>4</td>\n",
       "      <td>2</td>\n",
       "      <td>1</td>\n",
       "    </tr>\n",
       "    <tr>\n",
       "      <th>1</th>\n",
       "      <td>630423337322</td>\n",
       "      <td>fraud_Heller, Gutmann and Zieme</td>\n",
       "      <td>grocery_pos</td>\n",
       "      <td>107.23</td>\n",
       "      <td>Stephanie</td>\n",
       "      <td>Gill</td>\n",
       "      <td>F</td>\n",
       "      <td>43039 Riley Greens Suite 393</td>\n",
       "      <td>Orient</td>\n",
       "      <td>WA</td>\n",
       "      <td>...</td>\n",
       "      <td>True</td>\n",
       "      <td>30.216618</td>\n",
       "      <td>1</td>\n",
       "      <td>1</td>\n",
       "      <td>0</td>\n",
       "      <td>2019</td>\n",
       "      <td>4</td>\n",
       "      <td>4</td>\n",
       "      <td>1</td>\n",
       "      <td>1</td>\n",
       "    </tr>\n",
       "    <tr>\n",
       "      <th>2</th>\n",
       "      <td>38859492057661</td>\n",
       "      <td>fraud_Lind-Buckridge</td>\n",
       "      <td>entertainment</td>\n",
       "      <td>220.11</td>\n",
       "      <td>Edward</td>\n",
       "      <td>Sanchez</td>\n",
       "      <td>M</td>\n",
       "      <td>594 White Dale Suite 530</td>\n",
       "      <td>Malad City</td>\n",
       "      <td>ID</td>\n",
       "      <td>...</td>\n",
       "      <td>True</td>\n",
       "      <td>108.102912</td>\n",
       "      <td>1</td>\n",
       "      <td>1</td>\n",
       "      <td>0</td>\n",
       "      <td>2019</td>\n",
       "      <td>4</td>\n",
       "      <td>3</td>\n",
       "      <td>1</td>\n",
       "      <td>1</td>\n",
       "    </tr>\n",
       "    <tr>\n",
       "      <th>3</th>\n",
       "      <td>3534093764340240</td>\n",
       "      <td>fraud_Kutch, Hermiston and Farrell</td>\n",
       "      <td>gas_transport</td>\n",
       "      <td>45.00</td>\n",
       "      <td>Jeremy</td>\n",
       "      <td>White</td>\n",
       "      <td>M</td>\n",
       "      <td>9443 Cynthia Court Apt. 038</td>\n",
       "      <td>Boulder</td>\n",
       "      <td>MT</td>\n",
       "      <td>...</td>\n",
       "      <td>True</td>\n",
       "      <td>95.685115</td>\n",
       "      <td>1</td>\n",
       "      <td>1</td>\n",
       "      <td>0</td>\n",
       "      <td>2019</td>\n",
       "      <td>1</td>\n",
       "      <td>1</td>\n",
       "      <td>1</td>\n",
       "      <td>1</td>\n",
       "    </tr>\n",
       "    <tr>\n",
       "      <th>4</th>\n",
       "      <td>375534208663984</td>\n",
       "      <td>fraud_Keeling-Crist</td>\n",
       "      <td>misc_pos</td>\n",
       "      <td>41.96</td>\n",
       "      <td>Tyler</td>\n",
       "      <td>Garcia</td>\n",
       "      <td>M</td>\n",
       "      <td>408 Bradley Rest</td>\n",
       "      <td>Doe Hill</td>\n",
       "      <td>VA</td>\n",
       "      <td>...</td>\n",
       "      <td>True</td>\n",
       "      <td>77.702395</td>\n",
       "      <td>1</td>\n",
       "      <td>1</td>\n",
       "      <td>0</td>\n",
       "      <td>2019</td>\n",
       "      <td>6</td>\n",
       "      <td>1</td>\n",
       "      <td>1</td>\n",
       "      <td>1</td>\n",
       "    </tr>\n",
       "  </tbody>\n",
       "</table>\n",
       "<p>5 rows × 35 columns</p>\n",
       "</div>"
      ],
      "text/plain": [
       "             cc_num                            merchant       category  \\\n",
       "0  2703186189652095          fraud_Rippin, Kub and Mann       misc_net   \n",
       "1      630423337322     fraud_Heller, Gutmann and Zieme    grocery_pos   \n",
       "2    38859492057661                fraud_Lind-Buckridge  entertainment   \n",
       "3  3534093764340240  fraud_Kutch, Hermiston and Farrell  gas_transport   \n",
       "4   375534208663984                 fraud_Keeling-Crist       misc_pos   \n",
       "\n",
       "      amt      first     last gender                        street  \\\n",
       "0    4.97   Jennifer    Banks      F                561 Perry Cove   \n",
       "1  107.23  Stephanie     Gill      F  43039 Riley Greens Suite 393   \n",
       "2  220.11     Edward  Sanchez      M      594 White Dale Suite 530   \n",
       "3   45.00     Jeremy    White      M   9443 Cynthia Court Apt. 038   \n",
       "4   41.96      Tyler   Garcia      M              408 Bradley Rest   \n",
       "\n",
       "             city state  ...  first_time_at_merchant  \\\n",
       "0  Moravian Falls    NC  ...                    True   \n",
       "1          Orient    WA  ...                    True   \n",
       "2      Malad City    ID  ...                    True   \n",
       "3         Boulder    MT  ...                    True   \n",
       "4        Doe Hill    VA  ...                    True   \n",
       "\n",
       "   dist_between_client_and_merch  trans_month  trans_day hour  year  \\\n",
       "0                      78.773821            1          1    0  2019   \n",
       "1                      30.216618            1          1    0  2019   \n",
       "2                     108.102912            1          1    0  2019   \n",
       "3                      95.685115            1          1    0  2019   \n",
       "4                      77.702395            1          1    0  2019   \n",
       "\n",
       "  times_shopped_at_merchant  times_shopped_at_merchant_year  \\\n",
       "0                         5                               4   \n",
       "1                         4                               4   \n",
       "2                         4                               3   \n",
       "3                         1                               1   \n",
       "4                         6                               1   \n",
       "\n",
       "   times_shopped_at_merchant_month  times_shopped_at_merchant_day  \n",
       "0                                2                              1  \n",
       "1                                1                              1  \n",
       "2                                1                              1  \n",
       "3                                1                              1  \n",
       "4                                1                              1  \n",
       "\n",
       "[5 rows x 35 columns]"
      ]
     },
     "execution_count": 28,
     "metadata": {},
     "output_type": "execute_result"
    }
   ],
   "source": [
    "df = pd.read_csv(\"dataset_feature_engineering.csv\", header=0)\n",
    "df.head()"
   ]
  },
  {
   "cell_type": "markdown",
   "metadata": {},
   "source": [
    "#### Información del dataset y análisis exploratorio"
   ]
  },
  {
   "cell_type": "code",
   "execution_count": 29,
   "metadata": {},
   "outputs": [
    {
     "data": {
      "text/plain": [
       "(1852394, 35)"
      ]
     },
     "execution_count": 29,
     "metadata": {},
     "output_type": "execute_result"
    }
   ],
   "source": [
    "df.shape"
   ]
  },
  {
   "cell_type": "code",
   "execution_count": 30,
   "metadata": {},
   "outputs": [
    {
     "name": "stdout",
     "output_type": "stream",
     "text": [
      "<class 'pandas.core.frame.DataFrame'>\n",
      "RangeIndex: 1852394 entries, 0 to 1852393\n",
      "Data columns (total 35 columns):\n",
      " #   Column                           Dtype  \n",
      "---  ------                           -----  \n",
      " 0   cc_num                           int64  \n",
      " 1   merchant                         object \n",
      " 2   category                         object \n",
      " 3   amt                              float64\n",
      " 4   first                            object \n",
      " 5   last                             object \n",
      " 6   gender                           object \n",
      " 7   street                           object \n",
      " 8   city                             object \n",
      " 9   state                            object \n",
      " 10  zip                              int64  \n",
      " 11  lat                              float64\n",
      " 12  long                             float64\n",
      " 13  city_pop                         int64  \n",
      " 14  job                              object \n",
      " 15  dob                              object \n",
      " 16  trans_num                        object \n",
      " 17  unix_time                        int64  \n",
      " 18  merch_lat                        float64\n",
      " 19  merch_long                       float64\n",
      " 20  is_fraud                         int64  \n",
      " 21  amt_month                        float64\n",
      " 22  amt_year                         float64\n",
      " 23  amt_month_shopping_net_spend     float64\n",
      " 24  count_month_shopping_net         float64\n",
      " 25  first_time_at_merchant           bool   \n",
      " 26  dist_between_client_and_merch    float64\n",
      " 27  trans_month                      int64  \n",
      " 28  trans_day                        int64  \n",
      " 29  hour                             int64  \n",
      " 30  year                             int64  \n",
      " 31  times_shopped_at_merchant        int64  \n",
      " 32  times_shopped_at_merchant_year   int64  \n",
      " 33  times_shopped_at_merchant_month  int64  \n",
      " 34  times_shopped_at_merchant_day    int64  \n",
      "dtypes: bool(1), float64(10), int64(13), object(11)\n",
      "memory usage: 482.3+ MB\n"
     ]
    }
   ],
   "source": [
    "df.info()"
   ]
  },
  {
   "cell_type": "code",
   "execution_count": 31,
   "metadata": {},
   "outputs": [
    {
     "data": {
      "application/vnd.microsoft.datawrangler.viewer.v0+json": {
       "columns": [
        {
         "name": "index",
         "rawType": "object",
         "type": "string"
        },
        {
         "name": "cc_num",
         "rawType": "float64",
         "type": "float"
        },
        {
         "name": "amt",
         "rawType": "float64",
         "type": "float"
        },
        {
         "name": "zip",
         "rawType": "float64",
         "type": "float"
        },
        {
         "name": "lat",
         "rawType": "float64",
         "type": "float"
        },
        {
         "name": "long",
         "rawType": "float64",
         "type": "float"
        },
        {
         "name": "city_pop",
         "rawType": "float64",
         "type": "float"
        },
        {
         "name": "unix_time",
         "rawType": "float64",
         "type": "float"
        },
        {
         "name": "merch_lat",
         "rawType": "float64",
         "type": "float"
        },
        {
         "name": "merch_long",
         "rawType": "float64",
         "type": "float"
        },
        {
         "name": "is_fraud",
         "rawType": "float64",
         "type": "float"
        },
        {
         "name": "amt_month",
         "rawType": "float64",
         "type": "float"
        },
        {
         "name": "amt_year",
         "rawType": "float64",
         "type": "float"
        },
        {
         "name": "amt_month_shopping_net_spend",
         "rawType": "float64",
         "type": "float"
        },
        {
         "name": "count_month_shopping_net",
         "rawType": "float64",
         "type": "float"
        },
        {
         "name": "dist_between_client_and_merch",
         "rawType": "float64",
         "type": "float"
        },
        {
         "name": "trans_month",
         "rawType": "float64",
         "type": "float"
        },
        {
         "name": "trans_day",
         "rawType": "float64",
         "type": "float"
        },
        {
         "name": "hour",
         "rawType": "float64",
         "type": "float"
        },
        {
         "name": "year",
         "rawType": "float64",
         "type": "float"
        },
        {
         "name": "times_shopped_at_merchant",
         "rawType": "float64",
         "type": "float"
        },
        {
         "name": "times_shopped_at_merchant_year",
         "rawType": "float64",
         "type": "float"
        },
        {
         "name": "times_shopped_at_merchant_month",
         "rawType": "float64",
         "type": "float"
        },
        {
         "name": "times_shopped_at_merchant_day",
         "rawType": "float64",
         "type": "float"
        }
       ],
       "conversionMethod": "pd.DataFrame",
       "ref": "36a33ec7-0aef-42fd-8c87-be3f9664c71c",
       "rows": [
        [
         "count",
         "1852394.0",
         "1852394.0",
         "1852394.0",
         "1852394.0",
         "1852394.0",
         "1852394.0",
         "1852394.0",
         "1852394.0",
         "1852394.0",
         "1852394.0",
         "1852394.0",
         "1852394.0",
         "1852394.0",
         "1852394.0",
         "1852394.0",
         "1852394.0",
         "1852394.0",
         "1852394.0",
         "1852394.0",
         "1852394.0",
         "1852394.0",
         "1852394.0",
         "1852394.0"
        ],
        [
         "mean",
         "4.173860383937104e+17",
         "70.06356747538595",
         "48813.25819075207",
         "38.539310979251724",
         "-90.22783229070049",
         "88643.67450931066",
         "1358674218.8343642",
         "38.53897596705938",
         "-90.22793950913791",
         "0.005210014716091717",
         "4153.688992573931",
         "45305.59731490709",
         "376.2028012237137",
         "4.567241094497175",
         "76.10955815096905",
         "7.152067000864827",
         "2.967456167532393",
         "12.806119000601385",
         "2019.5007271671145",
         "5.298079134352627",
         "3.150459351520249",
         "1.3891094443190812",
         "1.6554415529309638"
        ],
        [
         "std",
         "1.3091152653187348e+18",
         "159.25397477398332",
         "26881.84596586286",
         "5.071470391380581",
         "13.747894882569092",
         "301487.6183436502",
         "18195081.387559593",
         "5.10560387759281",
         "13.759692112582876",
         "0.07199217499619152",
         "3909.005376718425",
         "35867.52246564399",
         "725.3530718426995",
         "4.575502404205457",
         "29.09273108329223",
         "3.4249538896776186",
         "2.197983256528946",
         "6.8157529461330695",
         "0.4999996061881091",
         "3.0943452973186067",
         "1.8653692895956446",
         "0.672255853298444",
         "0.9025900605541289"
        ],
        [
         "min",
         "60416207185.0",
         "1.0",
         "1257.0",
         "20.0271",
         "-165.6723",
         "23.0",
         "1325376018.0",
         "19.027422",
         "-166.671575",
         "0.0",
         "1.0",
         "1.02",
         "0.0",
         "0.0",
         "0.0222735133501133",
         "1.0",
         "0.0",
         "0.0",
         "2019.0",
         "1.0",
         "1.0",
         "1.0",
         "1.0"
        ],
        [
         "25%",
         "180042946491150.0",
         "9.64",
         "26237.0",
         "34.6689",
         "-96.798",
         "741.0",
         "1343016823.75",
         "34.740122250000006",
         "-96.89944",
         "0.0",
         "1344.79",
         "17341.4225",
         "9.02",
         "1.0",
         "55.341984398484755",
         "4.0",
         "1.0",
         "7.0",
         "2019.0",
         "3.0",
         "2.0",
         "1.0",
         "1.0"
        ],
        [
         "50%",
         "3521417320836166.0",
         "47.45",
         "48174.0",
         "39.3543",
         "-87.4769",
         "2443.0",
         "1357089331.0",
         "39.368900499999995",
         "-87.44069350000001",
         "0.0",
         "3071.99",
         "37439.104999999996",
         "75.89",
         "3.0",
         "78.24822737526492",
         "7.0",
         "3.0",
         "14.0",
         "2020.0",
         "5.0",
         "3.0",
         "1.0",
         "1.0"
        ],
        [
         "75%",
         "4642255475285942.0",
         "83.1",
         "72042.0",
         "41.9404",
         "-80.158",
         "20328.0",
         "1374581485.25",
         "41.956263",
         "-80.245108",
         "0.0",
         "5738.47",
         "64720.880000000005",
         "425.98",
         "7.0",
         "98.47204051110535",
         "10.0",
         "5.0",
         "19.0",
         "2020.0",
         "7.0",
         "4.0",
         "2.0",
         "2.0"
        ],
        [
         "max",
         "4.992346398065154e+18",
         "28948.9",
         "99921.0",
         "66.6933",
         "-67.9503",
         "2906700.0",
         "1388534374.0",
         "67.510267",
         "-66.950902",
         "1.0",
         "43261.89",
         "219086.77",
         "12047.18",
         "48.0",
         "151.86820020102445",
         "12.0",
         "6.0",
         "23.0",
         "2020.0",
         "28.0",
         "17.0",
         "9.0",
         "9.0"
        ]
       ],
       "shape": {
        "columns": 23,
        "rows": 8
       }
      },
      "text/html": [
       "<div>\n",
       "<style scoped>\n",
       "    .dataframe tbody tr th:only-of-type {\n",
       "        vertical-align: middle;\n",
       "    }\n",
       "\n",
       "    .dataframe tbody tr th {\n",
       "        vertical-align: top;\n",
       "    }\n",
       "\n",
       "    .dataframe thead th {\n",
       "        text-align: right;\n",
       "    }\n",
       "</style>\n",
       "<table border=\"1\" class=\"dataframe\">\n",
       "  <thead>\n",
       "    <tr style=\"text-align: right;\">\n",
       "      <th></th>\n",
       "      <th>cc_num</th>\n",
       "      <th>amt</th>\n",
       "      <th>zip</th>\n",
       "      <th>lat</th>\n",
       "      <th>long</th>\n",
       "      <th>city_pop</th>\n",
       "      <th>unix_time</th>\n",
       "      <th>merch_lat</th>\n",
       "      <th>merch_long</th>\n",
       "      <th>is_fraud</th>\n",
       "      <th>...</th>\n",
       "      <th>count_month_shopping_net</th>\n",
       "      <th>dist_between_client_and_merch</th>\n",
       "      <th>trans_month</th>\n",
       "      <th>trans_day</th>\n",
       "      <th>hour</th>\n",
       "      <th>year</th>\n",
       "      <th>times_shopped_at_merchant</th>\n",
       "      <th>times_shopped_at_merchant_year</th>\n",
       "      <th>times_shopped_at_merchant_month</th>\n",
       "      <th>times_shopped_at_merchant_day</th>\n",
       "    </tr>\n",
       "  </thead>\n",
       "  <tbody>\n",
       "    <tr>\n",
       "      <th>count</th>\n",
       "      <td>1.852394e+06</td>\n",
       "      <td>1.852394e+06</td>\n",
       "      <td>1.852394e+06</td>\n",
       "      <td>1.852394e+06</td>\n",
       "      <td>1.852394e+06</td>\n",
       "      <td>1.852394e+06</td>\n",
       "      <td>1.852394e+06</td>\n",
       "      <td>1.852394e+06</td>\n",
       "      <td>1.852394e+06</td>\n",
       "      <td>1.852394e+06</td>\n",
       "      <td>...</td>\n",
       "      <td>1.852394e+06</td>\n",
       "      <td>1.852394e+06</td>\n",
       "      <td>1.852394e+06</td>\n",
       "      <td>1.852394e+06</td>\n",
       "      <td>1.852394e+06</td>\n",
       "      <td>1.852394e+06</td>\n",
       "      <td>1.852394e+06</td>\n",
       "      <td>1.852394e+06</td>\n",
       "      <td>1.852394e+06</td>\n",
       "      <td>1.852394e+06</td>\n",
       "    </tr>\n",
       "    <tr>\n",
       "      <th>mean</th>\n",
       "      <td>4.173860e+17</td>\n",
       "      <td>7.006357e+01</td>\n",
       "      <td>4.881326e+04</td>\n",
       "      <td>3.853931e+01</td>\n",
       "      <td>-9.022783e+01</td>\n",
       "      <td>8.864367e+04</td>\n",
       "      <td>1.358674e+09</td>\n",
       "      <td>3.853898e+01</td>\n",
       "      <td>-9.022794e+01</td>\n",
       "      <td>5.210015e-03</td>\n",
       "      <td>...</td>\n",
       "      <td>4.567241e+00</td>\n",
       "      <td>7.610956e+01</td>\n",
       "      <td>7.152067e+00</td>\n",
       "      <td>2.967456e+00</td>\n",
       "      <td>1.280612e+01</td>\n",
       "      <td>2.019501e+03</td>\n",
       "      <td>5.298079e+00</td>\n",
       "      <td>3.150459e+00</td>\n",
       "      <td>1.389109e+00</td>\n",
       "      <td>1.655442e+00</td>\n",
       "    </tr>\n",
       "    <tr>\n",
       "      <th>std</th>\n",
       "      <td>1.309115e+18</td>\n",
       "      <td>1.592540e+02</td>\n",
       "      <td>2.688185e+04</td>\n",
       "      <td>5.071470e+00</td>\n",
       "      <td>1.374789e+01</td>\n",
       "      <td>3.014876e+05</td>\n",
       "      <td>1.819508e+07</td>\n",
       "      <td>5.105604e+00</td>\n",
       "      <td>1.375969e+01</td>\n",
       "      <td>7.199217e-02</td>\n",
       "      <td>...</td>\n",
       "      <td>4.575502e+00</td>\n",
       "      <td>2.909273e+01</td>\n",
       "      <td>3.424954e+00</td>\n",
       "      <td>2.197983e+00</td>\n",
       "      <td>6.815753e+00</td>\n",
       "      <td>4.999996e-01</td>\n",
       "      <td>3.094345e+00</td>\n",
       "      <td>1.865369e+00</td>\n",
       "      <td>6.722559e-01</td>\n",
       "      <td>9.025901e-01</td>\n",
       "    </tr>\n",
       "    <tr>\n",
       "      <th>min</th>\n",
       "      <td>6.041621e+10</td>\n",
       "      <td>1.000000e+00</td>\n",
       "      <td>1.257000e+03</td>\n",
       "      <td>2.002710e+01</td>\n",
       "      <td>-1.656723e+02</td>\n",
       "      <td>2.300000e+01</td>\n",
       "      <td>1.325376e+09</td>\n",
       "      <td>1.902742e+01</td>\n",
       "      <td>-1.666716e+02</td>\n",
       "      <td>0.000000e+00</td>\n",
       "      <td>...</td>\n",
       "      <td>0.000000e+00</td>\n",
       "      <td>2.227351e-02</td>\n",
       "      <td>1.000000e+00</td>\n",
       "      <td>0.000000e+00</td>\n",
       "      <td>0.000000e+00</td>\n",
       "      <td>2.019000e+03</td>\n",
       "      <td>1.000000e+00</td>\n",
       "      <td>1.000000e+00</td>\n",
       "      <td>1.000000e+00</td>\n",
       "      <td>1.000000e+00</td>\n",
       "    </tr>\n",
       "    <tr>\n",
       "      <th>25%</th>\n",
       "      <td>1.800429e+14</td>\n",
       "      <td>9.640000e+00</td>\n",
       "      <td>2.623700e+04</td>\n",
       "      <td>3.466890e+01</td>\n",
       "      <td>-9.679800e+01</td>\n",
       "      <td>7.410000e+02</td>\n",
       "      <td>1.343017e+09</td>\n",
       "      <td>3.474012e+01</td>\n",
       "      <td>-9.689944e+01</td>\n",
       "      <td>0.000000e+00</td>\n",
       "      <td>...</td>\n",
       "      <td>1.000000e+00</td>\n",
       "      <td>5.534198e+01</td>\n",
       "      <td>4.000000e+00</td>\n",
       "      <td>1.000000e+00</td>\n",
       "      <td>7.000000e+00</td>\n",
       "      <td>2.019000e+03</td>\n",
       "      <td>3.000000e+00</td>\n",
       "      <td>2.000000e+00</td>\n",
       "      <td>1.000000e+00</td>\n",
       "      <td>1.000000e+00</td>\n",
       "    </tr>\n",
       "    <tr>\n",
       "      <th>50%</th>\n",
       "      <td>3.521417e+15</td>\n",
       "      <td>4.745000e+01</td>\n",
       "      <td>4.817400e+04</td>\n",
       "      <td>3.935430e+01</td>\n",
       "      <td>-8.747690e+01</td>\n",
       "      <td>2.443000e+03</td>\n",
       "      <td>1.357089e+09</td>\n",
       "      <td>3.936890e+01</td>\n",
       "      <td>-8.744069e+01</td>\n",
       "      <td>0.000000e+00</td>\n",
       "      <td>...</td>\n",
       "      <td>3.000000e+00</td>\n",
       "      <td>7.824823e+01</td>\n",
       "      <td>7.000000e+00</td>\n",
       "      <td>3.000000e+00</td>\n",
       "      <td>1.400000e+01</td>\n",
       "      <td>2.020000e+03</td>\n",
       "      <td>5.000000e+00</td>\n",
       "      <td>3.000000e+00</td>\n",
       "      <td>1.000000e+00</td>\n",
       "      <td>1.000000e+00</td>\n",
       "    </tr>\n",
       "    <tr>\n",
       "      <th>75%</th>\n",
       "      <td>4.642255e+15</td>\n",
       "      <td>8.310000e+01</td>\n",
       "      <td>7.204200e+04</td>\n",
       "      <td>4.194040e+01</td>\n",
       "      <td>-8.015800e+01</td>\n",
       "      <td>2.032800e+04</td>\n",
       "      <td>1.374581e+09</td>\n",
       "      <td>4.195626e+01</td>\n",
       "      <td>-8.024511e+01</td>\n",
       "      <td>0.000000e+00</td>\n",
       "      <td>...</td>\n",
       "      <td>7.000000e+00</td>\n",
       "      <td>9.847204e+01</td>\n",
       "      <td>1.000000e+01</td>\n",
       "      <td>5.000000e+00</td>\n",
       "      <td>1.900000e+01</td>\n",
       "      <td>2.020000e+03</td>\n",
       "      <td>7.000000e+00</td>\n",
       "      <td>4.000000e+00</td>\n",
       "      <td>2.000000e+00</td>\n",
       "      <td>2.000000e+00</td>\n",
       "    </tr>\n",
       "    <tr>\n",
       "      <th>max</th>\n",
       "      <td>4.992346e+18</td>\n",
       "      <td>2.894890e+04</td>\n",
       "      <td>9.992100e+04</td>\n",
       "      <td>6.669330e+01</td>\n",
       "      <td>-6.795030e+01</td>\n",
       "      <td>2.906700e+06</td>\n",
       "      <td>1.388534e+09</td>\n",
       "      <td>6.751027e+01</td>\n",
       "      <td>-6.695090e+01</td>\n",
       "      <td>1.000000e+00</td>\n",
       "      <td>...</td>\n",
       "      <td>4.800000e+01</td>\n",
       "      <td>1.518682e+02</td>\n",
       "      <td>1.200000e+01</td>\n",
       "      <td>6.000000e+00</td>\n",
       "      <td>2.300000e+01</td>\n",
       "      <td>2.020000e+03</td>\n",
       "      <td>2.800000e+01</td>\n",
       "      <td>1.700000e+01</td>\n",
       "      <td>9.000000e+00</td>\n",
       "      <td>9.000000e+00</td>\n",
       "    </tr>\n",
       "  </tbody>\n",
       "</table>\n",
       "<p>8 rows × 23 columns</p>\n",
       "</div>"
      ],
      "text/plain": [
       "             cc_num           amt           zip           lat          long  \\\n",
       "count  1.852394e+06  1.852394e+06  1.852394e+06  1.852394e+06  1.852394e+06   \n",
       "mean   4.173860e+17  7.006357e+01  4.881326e+04  3.853931e+01 -9.022783e+01   \n",
       "std    1.309115e+18  1.592540e+02  2.688185e+04  5.071470e+00  1.374789e+01   \n",
       "min    6.041621e+10  1.000000e+00  1.257000e+03  2.002710e+01 -1.656723e+02   \n",
       "25%    1.800429e+14  9.640000e+00  2.623700e+04  3.466890e+01 -9.679800e+01   \n",
       "50%    3.521417e+15  4.745000e+01  4.817400e+04  3.935430e+01 -8.747690e+01   \n",
       "75%    4.642255e+15  8.310000e+01  7.204200e+04  4.194040e+01 -8.015800e+01   \n",
       "max    4.992346e+18  2.894890e+04  9.992100e+04  6.669330e+01 -6.795030e+01   \n",
       "\n",
       "           city_pop     unix_time     merch_lat    merch_long      is_fraud  \\\n",
       "count  1.852394e+06  1.852394e+06  1.852394e+06  1.852394e+06  1.852394e+06   \n",
       "mean   8.864367e+04  1.358674e+09  3.853898e+01 -9.022794e+01  5.210015e-03   \n",
       "std    3.014876e+05  1.819508e+07  5.105604e+00  1.375969e+01  7.199217e-02   \n",
       "min    2.300000e+01  1.325376e+09  1.902742e+01 -1.666716e+02  0.000000e+00   \n",
       "25%    7.410000e+02  1.343017e+09  3.474012e+01 -9.689944e+01  0.000000e+00   \n",
       "50%    2.443000e+03  1.357089e+09  3.936890e+01 -8.744069e+01  0.000000e+00   \n",
       "75%    2.032800e+04  1.374581e+09  4.195626e+01 -8.024511e+01  0.000000e+00   \n",
       "max    2.906700e+06  1.388534e+09  6.751027e+01 -6.695090e+01  1.000000e+00   \n",
       "\n",
       "       ...  count_month_shopping_net  dist_between_client_and_merch  \\\n",
       "count  ...              1.852394e+06                   1.852394e+06   \n",
       "mean   ...              4.567241e+00                   7.610956e+01   \n",
       "std    ...              4.575502e+00                   2.909273e+01   \n",
       "min    ...              0.000000e+00                   2.227351e-02   \n",
       "25%    ...              1.000000e+00                   5.534198e+01   \n",
       "50%    ...              3.000000e+00                   7.824823e+01   \n",
       "75%    ...              7.000000e+00                   9.847204e+01   \n",
       "max    ...              4.800000e+01                   1.518682e+02   \n",
       "\n",
       "        trans_month     trans_day          hour          year  \\\n",
       "count  1.852394e+06  1.852394e+06  1.852394e+06  1.852394e+06   \n",
       "mean   7.152067e+00  2.967456e+00  1.280612e+01  2.019501e+03   \n",
       "std    3.424954e+00  2.197983e+00  6.815753e+00  4.999996e-01   \n",
       "min    1.000000e+00  0.000000e+00  0.000000e+00  2.019000e+03   \n",
       "25%    4.000000e+00  1.000000e+00  7.000000e+00  2.019000e+03   \n",
       "50%    7.000000e+00  3.000000e+00  1.400000e+01  2.020000e+03   \n",
       "75%    1.000000e+01  5.000000e+00  1.900000e+01  2.020000e+03   \n",
       "max    1.200000e+01  6.000000e+00  2.300000e+01  2.020000e+03   \n",
       "\n",
       "       times_shopped_at_merchant  times_shopped_at_merchant_year  \\\n",
       "count               1.852394e+06                    1.852394e+06   \n",
       "mean                5.298079e+00                    3.150459e+00   \n",
       "std                 3.094345e+00                    1.865369e+00   \n",
       "min                 1.000000e+00                    1.000000e+00   \n",
       "25%                 3.000000e+00                    2.000000e+00   \n",
       "50%                 5.000000e+00                    3.000000e+00   \n",
       "75%                 7.000000e+00                    4.000000e+00   \n",
       "max                 2.800000e+01                    1.700000e+01   \n",
       "\n",
       "       times_shopped_at_merchant_month  times_shopped_at_merchant_day  \n",
       "count                     1.852394e+06                   1.852394e+06  \n",
       "mean                      1.389109e+00                   1.655442e+00  \n",
       "std                       6.722559e-01                   9.025901e-01  \n",
       "min                       1.000000e+00                   1.000000e+00  \n",
       "25%                       1.000000e+00                   1.000000e+00  \n",
       "50%                       1.000000e+00                   1.000000e+00  \n",
       "75%                       2.000000e+00                   2.000000e+00  \n",
       "max                       9.000000e+00                   9.000000e+00  \n",
       "\n",
       "[8 rows x 23 columns]"
      ]
     },
     "execution_count": 31,
     "metadata": {},
     "output_type": "execute_result"
    }
   ],
   "source": [
    "df.describe()"
   ]
  },
  {
   "cell_type": "markdown",
   "metadata": {},
   "source": [
    "### ✅ 1.3 Verificar Rango de Fechas"
   ]
  },
  {
   "cell_type": "code",
   "execution_count": 33,
   "metadata": {},
   "outputs": [
    {
     "name": "stdout",
     "output_type": "stream",
     "text": [
      "Años disponibles: [2019 2020]\n",
      "Meses disponibles: [ 1  2  3  4  5  6  7  8  9 10 11 12]\n"
     ]
    }
   ],
   "source": [
    "print(\"Años disponibles:\", df['year'].unique())\n",
    "print(\"Meses disponibles:\", df['trans_month'].unique())\n",
    "\n"
   ]
  },
  {
   "cell_type": "markdown",
   "metadata": {},
   "source": [
    "### ✅ 1.4 Análisis de la Variable Objetivo (is_fraud)"
   ]
  },
  {
   "cell_type": "code",
   "execution_count": 34,
   "metadata": {},
   "outputs": [
    {
     "data": {
      "application/vnd.microsoft.datawrangler.viewer.v0+json": {
       "columns": [
        {
         "name": "is_fraud",
         "rawType": "object",
         "type": "string"
        },
        {
         "name": "Cantidad",
         "rawType": "int64",
         "type": "integer"
        },
        {
         "name": "Porcentaje",
         "rawType": "float64",
         "type": "float"
        }
       ],
       "conversionMethod": "pd.DataFrame",
       "ref": "4f41f517-2976-4a14-9ae0-207042b55f8d",
       "rows": [
        [
         "No Fraude",
         "1842743",
         "99.48"
        ],
        [
         "Fraude",
         "9651",
         "0.52"
        ]
       ],
       "shape": {
        "columns": 2,
        "rows": 2
       }
      },
      "text/html": [
       "<div>\n",
       "<style scoped>\n",
       "    .dataframe tbody tr th:only-of-type {\n",
       "        vertical-align: middle;\n",
       "    }\n",
       "\n",
       "    .dataframe tbody tr th {\n",
       "        vertical-align: top;\n",
       "    }\n",
       "\n",
       "    .dataframe thead th {\n",
       "        text-align: right;\n",
       "    }\n",
       "</style>\n",
       "<table border=\"1\" class=\"dataframe\">\n",
       "  <thead>\n",
       "    <tr style=\"text-align: right;\">\n",
       "      <th></th>\n",
       "      <th>Cantidad</th>\n",
       "      <th>Porcentaje</th>\n",
       "    </tr>\n",
       "    <tr>\n",
       "      <th>is_fraud</th>\n",
       "      <th></th>\n",
       "      <th></th>\n",
       "    </tr>\n",
       "  </thead>\n",
       "  <tbody>\n",
       "    <tr>\n",
       "      <th>No Fraude</th>\n",
       "      <td>1842743</td>\n",
       "      <td>99.48</td>\n",
       "    </tr>\n",
       "    <tr>\n",
       "      <th>Fraude</th>\n",
       "      <td>9651</td>\n",
       "      <td>0.52</td>\n",
       "    </tr>\n",
       "  </tbody>\n",
       "</table>\n",
       "</div>"
      ],
      "text/plain": [
       "           Cantidad  Porcentaje\n",
       "is_fraud                       \n",
       "No Fraude   1842743       99.48\n",
       "Fraude         9651        0.52"
      ]
     },
     "execution_count": 34,
     "metadata": {},
     "output_type": "execute_result"
    }
   ],
   "source": [
    "fraud_dist = df['is_fraud'].value_counts().rename({0: 'No Fraude', 1: 'Fraude'})\n",
    "fraud_percent = (fraud_dist / fraud_dist.sum()) * 100\n",
    "\n",
    "fraud_df = pd.DataFrame({\n",
    "    'Cantidad': fraud_dist,\n",
    "    'Porcentaje': fraud_percent.round(2)\n",
    "})\n",
    "fraud_df\n"
   ]
  },
  {
   "cell_type": "code",
   "execution_count": 35,
   "metadata": {},
   "outputs": [
    {
     "data": {
      "image/png": "[encoded data removed]",
      "text/plain": [
       "<Figure size 640x480 with 1 Axes>"
      ]
     },
     "metadata": {},
     "output_type": "display_data"
    }
   ],
   "source": [
    "sns.countplot(x='is_fraud', data=df)\n",
    "plt.xticks([0, 1], ['No Fraude', 'Fraude'])\n",
    "plt.title(\"Distribución de Transacciones Fraudulentas\")\n",
    "plt.xlabel(\"Tipo de Transacción\")\n",
    "plt.ylabel(\"Cantidad\")\n",
    "plt.show()\n"
   ]
  },
  {
   "cell_type": "markdown",
   "metadata": {},
   "source": [
    "### ✅ 1.5 Evolución del Fraude por Año"
   ]
  },
  {
   "cell_type": "code",
   "execution_count": 36,
   "metadata": {},
   "outputs": [
    {
     "data": {
      "application/vnd.microsoft.datawrangler.viewer.v0+json": {
       "columns": [
        {
         "name": "year",
         "rawType": "int64",
         "type": "integer"
        },
        {
         "name": "No Fraude",
         "rawType": "int64",
         "type": "integer"
        },
        {
         "name": "Fraude",
         "rawType": "int64",
         "type": "integer"
        },
        {
         "name": "Total",
         "rawType": "int64",
         "type": "integer"
        },
        {
         "name": "% Fraude",
         "rawType": "float64",
         "type": "float"
        }
       ],
       "conversionMethod": "pd.DataFrame",
       "ref": "bffc029b-5423-499b-b3b7-caac8341865b",
       "rows": [
        [
         "2019",
         "919630",
         "5220",
         "924850",
         "0.56"
        ],
        [
         "2020",
         "923113",
         "4431",
         "927544",
         "0.48"
        ]
       ],
       "shape": {
        "columns": 4,
        "rows": 2
       }
      },
      "text/html": [
       "<div>\n",
       "<style scoped>\n",
       "    .dataframe tbody tr th:only-of-type {\n",
       "        vertical-align: middle;\n",
       "    }\n",
       "\n",
       "    .dataframe tbody tr th {\n",
       "        vertical-align: top;\n",
       "    }\n",
       "\n",
       "    .dataframe thead th {\n",
       "        text-align: right;\n",
       "    }\n",
       "</style>\n",
       "<table border=\"1\" class=\"dataframe\">\n",
       "  <thead>\n",
       "    <tr style=\"text-align: right;\">\n",
       "      <th></th>\n",
       "      <th>No Fraude</th>\n",
       "      <th>Fraude</th>\n",
       "      <th>Total</th>\n",
       "      <th>% Fraude</th>\n",
       "    </tr>\n",
       "    <tr>\n",
       "      <th>year</th>\n",
       "      <th></th>\n",
       "      <th></th>\n",
       "      <th></th>\n",
       "      <th></th>\n",
       "    </tr>\n",
       "  </thead>\n",
       "  <tbody>\n",
       "    <tr>\n",
       "      <th>2019</th>\n",
       "      <td>919630</td>\n",
       "      <td>5220</td>\n",
       "      <td>924850</td>\n",
       "      <td>0.56</td>\n",
       "    </tr>\n",
       "    <tr>\n",
       "      <th>2020</th>\n",
       "      <td>923113</td>\n",
       "      <td>4431</td>\n",
       "      <td>927544</td>\n",
       "      <td>0.48</td>\n",
       "    </tr>\n",
       "  </tbody>\n",
       "</table>\n",
       "</div>"
      ],
      "text/plain": [
       "      No Fraude  Fraude   Total  % Fraude\n",
       "year                                     \n",
       "2019     919630    5220  924850      0.56\n",
       "2020     923113    4431  927544      0.48"
      ]
     },
     "execution_count": 36,
     "metadata": {},
     "output_type": "execute_result"
    }
   ],
   "source": [
    "df_yearly = df.groupby(['year', 'is_fraud']).size().unstack().fillna(0)\n",
    "df_yearly.columns = ['No Fraude', 'Fraude']\n",
    "df_yearly['Total'] = df_yearly.sum(axis=1)\n",
    "df_yearly['% Fraude'] = (df_yearly['Fraude'] / df_yearly['Total'] * 100).round(2)\n",
    "\n",
    "df_yearly\n"
   ]
  },
  {
   "cell_type": "code",
   "execution_count": 37,
   "metadata": {},
   "outputs": [
    {
     "data": {
      "image/png": "[encoded data removed]",
      "text/plain": [
       "<Figure size 640x480 with 1 Axes>"
      ]
     },
     "metadata": {},
     "output_type": "display_data"
    }
   ],
   "source": [
    "df_yearly[['No Fraude', 'Fraude']].plot(kind='bar', stacked=True)\n",
    "plt.title(\"Distribución Anual de Fraudes vs No Fraudes\")\n",
    "plt.ylabel(\"Cantidad de Transacciones\")\n",
    "plt.show()\n"
   ]
  },
  {
   "cell_type": "markdown",
   "metadata": {},
   "source": [
    "### ✅ 1.6 Análisis de top 10 Comercios Más Sospechosos en cada año"
   ]
  },
  {
   "cell_type": "code",
   "execution_count": 47,
   "metadata": {},
   "outputs": [
    {
     "name": "stdout",
     "output_type": "stream",
     "text": [
      "\n",
      "Top 10 Comercios con más fraudes en 2019:\n",
      "                merchant  Cantidad de Fraudes\n",
      "      fraud_Hudson-Ratke                   37\n",
      "       fraud_Kilback LLC                   35\n",
      "      fraud_Rau and Sons                   33\n",
      "       fraud_Cormier LLC                   32\n",
      "fraud_Gleason-Macejkovic                   32\n",
      "     fraud_Koepp-Witting                   32\n",
      "          fraud_Kuhn LLC                   32\n",
      "    fraud_Boyer-Reichert                   31\n",
      "    fraud_Kiehn-Emmerich                   31\n",
      "         fraud_Kuhic LLC                   31\n",
      "\n",
      "Top 10 Comercios con más fraudes en 2020:\n",
      "                            merchant  Cantidad de Fraudes\n",
      "                     fraud_Doyle Ltd                   33\n",
      "                     fraud_Kiehn Inc                   30\n",
      "                   fraud_Kozey-Boehm                   30\n",
      "fraud_Langworth, Boehm and Gulgowski                   29\n",
      "      fraud_Moen, Reinger and Murphy                   29\n",
      "               fraud_Kerluke-Abshire                   28\n",
      " fraud_Mosciski, Ziemann and Farrell                   28\n",
      "               fraud_Bashirian Group                   27\n",
      "                   fraud_Kilback LLC                   27\n",
      "                  fraud_Medhurst PLC                   27\n"
     ]
    }
   ],
   "source": [
    "# Group fraudulent transactions by year and merchant\n",
    "fraud_by_year = df[df['is_fraud'] == 1].groupby([df['year'], 'merchant'])['merchant'].count().reset_index(name='Cantidad de Fraudes')\n",
    "\n",
    "# Get top 10 merchants for each year\n",
    "top_merchants_by_year = fraud_by_year.sort_values(['year', 'Cantidad de Fraudes'], ascending=[True, False]).groupby('year').head(10)\n",
    "\n",
    "# Display results for each year\n",
    "for year in top_merchants_by_year['year'].unique():\n",
    "    print(f\"\\nTop 10 Comercios con más fraudes en {year}:\")\n",
    "    year_data = top_merchants_by_year[top_merchants_by_year['year'] == year]\n",
    "    print(year_data[['merchant', 'Cantidad de Fraudes']].to_string(index=False))    "
   ]
  },
  {
   "cell_type": "code",
   "execution_count": 48,
   "metadata": {},
   "outputs": [
    {
     "data": {
      "image/png": "[encoded data removed]",
      "text/plain": [
       "<Figure size 1200x600 with 1 Axes>"
      ]
     },
     "metadata": {},
     "output_type": "display_data"
    }
   ],
   "source": [
    "# Graficar los 10 comercios con más fraudes\n",
    "top_merchants_by_year = top_merchants_by_year.sort_values(['year', 'Cantidad de Fraudes'], ascending=[True, False])\n",
    "plt.figure(figsize=(12, 6))\n",
    "sns.barplot(x='Cantidad de Fraudes', y='merchant', hue='year', data=top_merchants_by_year, dodge=True)\n",
    "plt.title(\"Top 10 Comercios con más Fraudes por Año\")\n",
    "plt.xlabel(\"Cantidad de Fraudes\")\n",
    "plt.ylabel(\"Comercio\")\n",
    "plt.legend(title='Año')\n",
    "plt.show()"
   ]
  },
  {
   "cell_type": "markdown",
   "metadata": {},
   "source": [
    "# 🔍 1.7 Análisis de Distribución y Balanceo de Clases"
   ]
  },
  {
   "cell_type": "markdown",
   "metadata": {},
   "source": [
    "### 📌 1.7.1 Distribución de la Variable Objetivo (is_fraud)"
   ]
  },
  {
   "cell_type": "code",
   "execution_count": 49,
   "metadata": {},
   "outputs": [
    {
     "data": {
      "application/vnd.microsoft.datawrangler.viewer.v0+json": {
       "columns": [
        {
         "name": "index",
         "rawType": "int64",
         "type": "integer"
        },
        {
         "name": "Clase",
         "rawType": "object",
         "type": "string"
        },
        {
         "name": "Cantidad",
         "rawType": "int64",
         "type": "integer"
        },
        {
         "name": "Porcentaje (%)",
         "rawType": "float64",
         "type": "float"
        }
       ],
       "conversionMethod": "pd.DataFrame",
       "ref": "676eac3e-0aab-4b50-9396-0a05e3e76a12",
       "rows": [
        [
         "0",
         "No Fraude",
         "1842743",
         "99.48"
        ],
        [
         "1",
         "Fraude",
         "9651",
         "0.52"
        ]
       ],
       "shape": {
        "columns": 3,
        "rows": 2
       }
      },
      "text/html": [
       "<div>\n",
       "<style scoped>\n",
       "    .dataframe tbody tr th:only-of-type {\n",
       "        vertical-align: middle;\n",
       "    }\n",
       "\n",
       "    .dataframe tbody tr th {\n",
       "        vertical-align: top;\n",
       "    }\n",
       "\n",
       "    .dataframe thead th {\n",
       "        text-align: right;\n",
       "    }\n",
       "</style>\n",
       "<table border=\"1\" class=\"dataframe\">\n",
       "  <thead>\n",
       "    <tr style=\"text-align: right;\">\n",
       "      <th></th>\n",
       "      <th>Clase</th>\n",
       "      <th>Cantidad</th>\n",
       "      <th>Porcentaje (%)</th>\n",
       "    </tr>\n",
       "  </thead>\n",
       "  <tbody>\n",
       "    <tr>\n",
       "      <th>0</th>\n",
       "      <td>No Fraude</td>\n",
       "      <td>1842743</td>\n",
       "      <td>99.48</td>\n",
       "    </tr>\n",
       "    <tr>\n",
       "      <th>1</th>\n",
       "      <td>Fraude</td>\n",
       "      <td>9651</td>\n",
       "      <td>0.52</td>\n",
       "    </tr>\n",
       "  </tbody>\n",
       "</table>\n",
       "</div>"
      ],
      "text/plain": [
       "       Clase  Cantidad  Porcentaje (%)\n",
       "0  No Fraude   1842743           99.48\n",
       "1     Fraude      9651            0.52"
      ]
     },
     "execution_count": 49,
     "metadata": {},
     "output_type": "execute_result"
    }
   ],
   "source": [
    "fraud_counts = df['is_fraud'].value_counts()\n",
    "fraud_percentages = (fraud_counts / fraud_counts.sum()) * 100\n",
    "\n",
    "balanceo_df = pd.DataFrame({\n",
    "    'Clase': ['No Fraude', 'Fraude'],\n",
    "    'Cantidad': fraud_counts.values,\n",
    "    'Porcentaje (%)': fraud_percentages.round(2).values\n",
    "})\n",
    "\n",
    "balanceo_df\n"
   ]
  },
  {
   "cell_type": "code",
   "execution_count": 50,
   "metadata": {},
   "outputs": [
    {
     "name": "stderr",
     "output_type": "stream",
     "text": [
      "C:\\Users\\Personal\\AppData\\Local\\Temp\\ipykernel_10420\\2138708056.py:2: FutureWarning: \n",
      "\n",
      "Passing `palette` without assigning `hue` is deprecated and will be removed in v0.14.0. Assign the `x` variable to `hue` and set `legend=False` for the same effect.\n",
      "\n",
      "  sns.barplot(x=balanceo_df['Clase'], y=balanceo_df['Cantidad'], palette='viridis')\n"
     ]
    },
    {
     "data": {
      "image/png": "[encoded data removed]",
      "text/plain": [
       "<Figure size 600x400 with 1 Axes>"
      ]
     },
     "metadata": {},
     "output_type": "display_data"
    }
   ],
   "source": [
    "plt.figure(figsize=(6,4))\n",
    "sns.barplot(x=balanceo_df['Clase'], y=balanceo_df['Cantidad'], palette='viridis')\n",
    "plt.title('Distribución de Clases - Variable Objetivo (is_fraud)')\n",
    "plt.ylabel('Cantidad de Transacciones')\n",
    "plt.show()\n"
   ]
  },
  {
   "cell_type": "markdown",
   "metadata": {},
   "source": [
    "### 📌 1.7.2 Distribución de Transacciones por Categoría (category) y Fraude"
   ]
  },
  {
   "cell_type": "code",
   "execution_count": 51,
   "metadata": {},
   "outputs": [
    {
     "data": {
      "image/png": "[encoded data removed]",
      "text/plain": [
       "<Figure size 1000x500 with 1 Axes>"
      ]
     },
     "metadata": {},
     "output_type": "display_data"
    }
   ],
   "source": [
    "plt.figure(figsize=(10,5))\n",
    "sns.countplot(x='category', data=df, hue='is_fraud', palette='Set2')\n",
    "plt.title('Distribución de Transacciones y Fraudes por Categoría')\n",
    "plt.xticks(rotation=45)\n",
    "plt.xlabel('Categoría de Transacción')\n",
    "plt.ylabel('Cantidad')\n",
    "plt.legend(title='¿Fraude?', labels=['No', 'Sí'])\n",
    "plt.tight_layout()\n",
    "plt.show()\n"
   ]
  },
  {
   "cell_type": "markdown",
   "metadata": {},
   "source": [
    "### 📌 1.7.3 Distribución de amount según tipo de transacción"
   ]
  },
  {
   "cell_type": "code",
   "execution_count": 52,
   "metadata": {},
   "outputs": [
    {
     "data": {
      "image/png": "[encoded data removed]",
      "text/plain": [
       "<Figure size 1200x600 with 1 Axes>"
      ]
     },
     "metadata": {},
     "output_type": "display_data"
    }
   ],
   "source": [
    "plt.figure(figsize=(12,6))\n",
    "sns.histplot(data=df, x='amt', hue='is_fraud', bins=100, kde=True, element='step', stat='density')\n",
    "plt.title('Distribución del Monto de Transacción por Tipo (Fraude vs No Fraude)')\n",
    "plt.xlabel('Monto')\n",
    "plt.xlim(0, 2000)  # Limita para ver mejor los datos (ajustable)\n",
    "plt.show()\n"
   ]
  },
  {
   "cell_type": "markdown",
   "metadata": {},
   "source": [
    "### 📌 1.7.4 Balanceo de clases en conjunto de entrenamiento/test"
   ]
  },
  {
   "cell_type": "code",
   "execution_count": 55,
   "metadata": {},
   "outputs": [
    {
     "data": {
      "application/vnd.microsoft.datawrangler.viewer.v0+json": {
       "columns": [
        {
         "name": "is_fraud",
         "rawType": "int64",
         "type": "integer"
        },
        {
         "name": "Train",
         "rawType": "float64",
         "type": "float"
        },
        {
         "name": "Test",
         "rawType": "float64",
         "type": "float"
        }
       ],
       "conversionMethod": "pd.DataFrame",
       "ref": "a709266b-8335-4594-bea9-59e2b15686cb",
       "rows": [
        [
         "0",
         "0.9948",
         "0.9948"
        ],
        [
         "1",
         "0.0052",
         "0.0052"
        ]
       ],
       "shape": {
        "columns": 2,
        "rows": 2
       }
      },
      "text/html": [
       "<div>\n",
       "<style scoped>\n",
       "    .dataframe tbody tr th:only-of-type {\n",
       "        vertical-align: middle;\n",
       "    }\n",
       "\n",
       "    .dataframe tbody tr th {\n",
       "        vertical-align: top;\n",
       "    }\n",
       "\n",
       "    .dataframe thead th {\n",
       "        text-align: right;\n",
       "    }\n",
       "</style>\n",
       "<table border=\"1\" class=\"dataframe\">\n",
       "  <thead>\n",
       "    <tr style=\"text-align: right;\">\n",
       "      <th></th>\n",
       "      <th>Train</th>\n",
       "      <th>Test</th>\n",
       "    </tr>\n",
       "    <tr>\n",
       "      <th>is_fraud</th>\n",
       "      <th></th>\n",
       "      <th></th>\n",
       "    </tr>\n",
       "  </thead>\n",
       "  <tbody>\n",
       "    <tr>\n",
       "      <th>0</th>\n",
       "      <td>0.9948</td>\n",
       "      <td>0.9948</td>\n",
       "    </tr>\n",
       "    <tr>\n",
       "      <th>1</th>\n",
       "      <td>0.0052</td>\n",
       "      <td>0.0052</td>\n",
       "    </tr>\n",
       "  </tbody>\n",
       "</table>\n",
       "</div>"
      ],
      "text/plain": [
       "           Train    Test\n",
       "is_fraud                \n",
       "0         0.9948  0.9948\n",
       "1         0.0052  0.0052"
      ]
     },
     "execution_count": 55,
     "metadata": {},
     "output_type": "execute_result"
    }
   ],
   "source": [
    "X = df.drop(columns=['is_fraud'])\n",
    "y = df['is_fraud']\n",
    "\n",
    "X_train, X_test, y_train, y_test = train_test_split(X, y, stratify=y, test_size=0.2, random_state=42)\n",
    "\n",
    "# Mostrar distribución\n",
    "pd.DataFrame({\n",
    "    'Train': y_train.value_counts(normalize=True).round(4),\n",
    "    'Test': y_test.value_counts(normalize=True).round(4)\n",
    "})\n"
   ]
  },
  {
   "cell_type": "markdown",
   "metadata": {},
   "source": [
    "# 🛠️ 2. Ingeniería de Variables"
   ]
  },
  {
   "cell_type": "markdown",
   "metadata": {},
   "source": [
    "### 🎯 Objetivo:\n",
    "Crear variables que capturen el historial de fraude por comercio, y que nos permitan priorizar aquellos comercios con antecedentes fraudulentos, así como otras variables contextuales que puedan enriquecer el modelo."
   ]
  },
  {
   "cell_type": "markdown",
   "metadata": {},
   "source": [
    "### ✅ 2.1 Conteo histórico de fraudes por comercio"
   ]
  },
  {
   "cell_type": "markdown",
   "metadata": {},
   "source": [
    "📌 Interpretación:\n",
    "Esta columna nos dice cuántos fraudes anteriores ha tenido ese comercio antes de esta transacción. Si el valor es alto, podría ser un indicador de riesgo."
   ]
  },
  {
   "cell_type": "code",
   "execution_count": 59,
   "metadata": {},
   "outputs": [
    {
     "name": "stdout",
     "output_type": "stream",
     "text": [
      "Primeras filas con los fraudes previos:\n",
      "                             merchant  is_fraud  fraudes_previos_en_merchant\n",
      "0          fraud_Rippin, Kub and Mann         0                            0\n",
      "1     fraud_Heller, Gutmann and Zieme         0                            0\n",
      "2                fraud_Lind-Buckridge         0                            0\n",
      "3  fraud_Kutch, Hermiston and Farrell         0                            0\n",
      "4                 fraud_Keeling-Crist         0                            0\n",
      "5    fraud_Stroman, Hudson and Erdman         0                            0\n",
      "6               fraud_Rowe-Vandervort         0                            0\n",
      "7                fraud_Corwin-Collins         0                            0\n",
      "8                    fraud_Herzog Ltd         0                            0\n",
      "9   fraud_Schoen, Kuphal and Nitzsche         0                            0\n"
     ]
    }
   ],
   "source": [
    "# Ordenar el dataset por tiempo para mantener la secuencia temporal\n",
    "df = df.sort_values(by=['unix_time', 'merchant'])\n",
    "\n",
    "# Crear variable acumulada de fraudes por merchant \n",
    "df['fraudes_previos_en_merchant'] = df.groupby('merchant').is_fraud.cumsum() - df.is_fraud\n",
    "\n",
    "# Para verificar los resultados\n",
    "print(\"Primeras filas con los fraudes previos:\")\n",
    "print(df[['merchant', 'is_fraud', 'fraudes_previos_en_merchant']].head(10))"
   ]
  },
  {
   "cell_type": "markdown",
   "metadata": {},
   "source": [
    "### ✅ 2.2 Flag binario: ¿Este comercio ha tenido algún fraude antes?\n",
    "📌 Interpretación:\n",
    "Este es un indicador binario (0/1) que refleja si el comercio ya tiene antecedentes de fraude.\n",
    "\n",
    "0 = no tiene antecedentes de fraude\n",
    "\n",
    "1 = si tiene antecedentes de fraude"
   ]
  },
  {
   "cell_type": "code",
   "execution_count": 61,
   "metadata": {},
   "outputs": [
    {
     "name": "stdout",
     "output_type": "stream",
     "text": [
      "Primeras filas con la nueva variable de historial de fraude:\n",
      "                             merchant  is_fraud  fraudes_previos_en_merchant  \\\n",
      "0          fraud_Rippin, Kub and Mann         0                            0   \n",
      "1     fraud_Heller, Gutmann and Zieme         0                            0   \n",
      "2                fraud_Lind-Buckridge         0                            0   \n",
      "3  fraud_Kutch, Hermiston and Farrell         0                            0   \n",
      "4                 fraud_Keeling-Crist         0                            0   \n",
      "5    fraud_Stroman, Hudson and Erdman         0                            0   \n",
      "6               fraud_Rowe-Vandervort         0                            0   \n",
      "7                fraud_Corwin-Collins         0                            0   \n",
      "8                    fraud_Herzog Ltd         0                            0   \n",
      "9   fraud_Schoen, Kuphal and Nitzsche         0                            0   \n",
      "\n",
      "   merchant_con_historial_fraude  \n",
      "0                              0  \n",
      "1                              0  \n",
      "2                              0  \n",
      "3                              0  \n",
      "4                              0  \n",
      "5                              0  \n",
      "6                              0  \n",
      "7                              0  \n",
      "8                              0  \n",
      "9                              0  \n"
     ]
    }
   ],
   "source": [
    "df['merchant_con_historial_fraude'] = (df['fraudes_previos_en_merchant'] > 0).astype(int)\n",
    "# Verificar la creación de la nueva variable\n",
    "print(\"Primeras filas con la nueva variable de historial de fraude:\")\n",
    "print(df[['merchant', 'is_fraud', 'fraudes_previos_en_merchant', 'merchant_con_historial_fraude']].head(10))\n"
   ]
  },
  {
   "cell_type": "markdown",
   "metadata": {},
   "source": [
    "### ✅ 2.3 Ratio de fraudes por comercio (histórico hasta la transacción)\n",
    "📌 Interpretación:\n",
    "Esta variable expresa la proporción histórica de fraudes en un comercio. Útil para ver si, aunque haya muchos fraudes, también hay muchas transacciones (lo que podría suavizar el impacto)."
   ]
  },
  {
   "cell_type": "code",
   "execution_count": 62,
   "metadata": {},
   "outputs": [],
   "source": [
    "# Calcular número total de transacciones por comercio hasta el momento\n",
    "df['transacciones_previas_en_merchant'] = (\n",
    "    df.groupby('merchant')\n",
    "    .cumcount()\n",
    ")\n",
    "\n",
    "# Evitar división por cero\n",
    "df['ratio_fraudes_en_merchant'] = np.where(\n",
    "    df['transacciones_previas_en_merchant'] > 0,\n",
    "    df['fraudes_previos_en_merchant'] / df['transacciones_previas_en_merchant'],\n",
    "    0\n",
    ")\n"
   ]
  }
 ],
 "metadata": {
  "kernelspec": {
   "display_name": "Python 3",
   "language": "python",
   "name": "python3"
  },
  "language_info": {
   "codemirror_mode": {
    "name": "ipython",
    "version": 3
   },
   "file_extension": ".py",
   "mimetype": "text/x-python",
   "name": "python",
   "nbconvert_exporter": "python",
   "pygments_lexer": "ipython3",
   "version": "3.11.0"
  }
 },
 "nbformat": 4,
 "nbformat_minor": 2
}
